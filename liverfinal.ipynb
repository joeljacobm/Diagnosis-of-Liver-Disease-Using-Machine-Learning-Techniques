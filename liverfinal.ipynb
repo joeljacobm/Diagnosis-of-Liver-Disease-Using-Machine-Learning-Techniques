{
 "cells": [
  {
   "cell_type": "code",
   "execution_count": 111,
   "metadata": {},
   "outputs": [],
   "source": [
    "\n",
    "import numpy as np\n",
    "import pandas as pd\n",
    "import keras\n",
    "from keras.models import Sequential,model_from_json\n",
    "from keras.layers import Dense\n",
    "\n"
   ]
  },
  {
   "cell_type": "code",
   "execution_count": 112,
   "metadata": {
    "collapsed": true
   },
   "outputs": [],
   "source": [
    "# load json and create model\n",
    "json_file = open('model.json', 'r')\n",
    "loaded_model_json = json_file.read()\n",
    "json_file.close()\n",
    "model = model_from_json(loaded_model_json)\n",
    "# load weights into new model\n",
    "model.load_weights(\"model.h5\")\n",
    "\n",
    " \n",
    "# evaluate loaded model on test data\n",
    "model.compile(loss='binary_crossentropy', optimizer='adam', metrics=['accuracy'])\n"
   ]
  },
  {
   "cell_type": "code",
   "execution_count": 113,
   "metadata": {
    "collapsed": true
   },
   "outputs": [],
   "source": [
    "ds=pd.read_csv('indian_liver_patient.csv')"
   ]
  },
  {
   "cell_type": "code",
   "execution_count": 114,
   "metadata": {
    "collapsed": true
   },
   "outputs": [],
   "source": [
    "ds['Result']=ds['Result'].where(ds['Result']==1, 0)\n",
    "mean1 = ds[ds['Result']==1]['Albumin_and_Globulin_Ratio'].mean()\n",
    "mean0 = ds[ds['Result']==0]['Albumin_and_Globulin_Ratio'].mean()\n",
    "def mean_ratio(cols):\n",
    "    Ratio = cols[0]\n",
    "    Result = cols[1]\n",
    "    if pd.isnull(Ratio):\n",
    "        if Result==1:\n",
    "            return mean1\n",
    "        else:\n",
    "            return mean0\n",
    "        \n",
    "    else:return Ratio   \n",
    "    \n",
    "corr_ratio = ds[['Albumin_and_Globulin_Ratio','Result']].apply(mean_ratio,axis=1)    \n",
    "ds['Albumin_and_Globulin_Ratio']=corr_ratio "
   ]
  },
  {
   "cell_type": "code",
   "execution_count": 115,
   "metadata": {
    "collapsed": true
   },
   "outputs": [],
   "source": [
    "gender_dummy = pd.get_dummies(ds['Gender'],drop_first=True)\n",
    "ds = pd.concat([gender_dummy,ds],axis=1)\n",
    "ds.drop('Gender',axis=1,inplace=True)"
   ]
  },
  {
   "cell_type": "code",
   "execution_count": 116,
   "metadata": {
    "collapsed": true
   },
   "outputs": [],
   "source": [
    "x = ds.drop('Result',axis=1)"
   ]
  },
  {
   "cell_type": "code",
   "execution_count": 117,
   "metadata": {},
   "outputs": [
    {
     "data": {
      "text/plain": [
       "StandardScaler(copy=True, with_mean=True, with_std=True)"
      ]
     },
     "execution_count": 117,
     "metadata": {},
     "output_type": "execute_result"
    }
   ],
   "source": [
    "from sklearn.preprocessing import StandardScaler\n",
    "sc= StandardScaler()\n",
    "sc.fit(x)"
   ]
  },
  {
   "cell_type": "code",
   "execution_count": 119,
   "metadata": {},
   "outputs": [
    {
     "ename": "TclError",
     "evalue": "can't invoke \"update\" command: application has been destroyed",
     "output_type": "error",
     "traceback": [
      "\u001b[1;31m---------------------------------------------------------------------------\u001b[0m",
      "\u001b[1;31mTclError\u001b[0m                                  Traceback (most recent call last)",
      "\u001b[1;32m<ipython-input-119-5d4335b05394>\u001b[0m in \u001b[0;36m<module>\u001b[1;34m()\u001b[0m\n\u001b[0;32m    134\u001b[0m \u001b[0mb2\u001b[0m\u001b[1;33m.\u001b[0m\u001b[0mgrid\u001b[0m\u001b[1;33m(\u001b[0m\u001b[0mrow\u001b[0m\u001b[1;33m=\u001b[0m\u001b[1;36m12\u001b[0m\u001b[1;33m,\u001b[0m\u001b[0mcolumn\u001b[0m\u001b[1;33m=\u001b[0m\u001b[1;36m2\u001b[0m\u001b[1;33m,\u001b[0m\u001b[0mipadx\u001b[0m\u001b[1;33m=\u001b[0m\u001b[1;36m20\u001b[0m\u001b[1;33m,\u001b[0m\u001b[0mipady\u001b[0m\u001b[1;33m=\u001b[0m\u001b[1;36m5\u001b[0m\u001b[1;33m)\u001b[0m\u001b[1;33m\u001b[0m\u001b[0m\n\u001b[0;32m    135\u001b[0m \u001b[1;32mwhile\u001b[0m \u001b[1;36m1\u001b[0m\u001b[1;33m:\u001b[0m\u001b[1;33m\u001b[0m\u001b[0m\n\u001b[1;32m--> 136\u001b[1;33m     \u001b[0mroot\u001b[0m\u001b[1;33m.\u001b[0m\u001b[0mupdate\u001b[0m\u001b[1;33m(\u001b[0m\u001b[1;33m)\u001b[0m\u001b[1;33m\u001b[0m\u001b[0m\n\u001b[0m\u001b[0;32m    137\u001b[0m     \u001b[1;32mif\u001b[0m\u001b[1;33m(\u001b[0m\u001b[0ma\u001b[0m\u001b[1;33m!=\u001b[0m\u001b[1;34m\"\"\u001b[0m\u001b[1;33m)\u001b[0m\u001b[1;33m:\u001b[0m\u001b[1;33m\u001b[0m\u001b[0m\n\u001b[0;32m    138\u001b[0m          \u001b[1;32mbreak\u001b[0m\u001b[1;33m\u001b[0m\u001b[0m\n",
      "\u001b[1;32m~\\Anaconda3\\lib\\tkinter\\__init__.py\u001b[0m in \u001b[0;36mupdate\u001b[1;34m(self)\u001b[0m\n\u001b[0;32m   1169\u001b[0m     \u001b[1;32mdef\u001b[0m \u001b[0mupdate\u001b[0m\u001b[1;33m(\u001b[0m\u001b[0mself\u001b[0m\u001b[1;33m)\u001b[0m\u001b[1;33m:\u001b[0m\u001b[1;33m\u001b[0m\u001b[0m\n\u001b[0;32m   1170\u001b[0m         \u001b[1;34m\"\"\"Enter event loop until all pending events have been processed by Tcl.\"\"\"\u001b[0m\u001b[1;33m\u001b[0m\u001b[0m\n\u001b[1;32m-> 1171\u001b[1;33m         \u001b[0mself\u001b[0m\u001b[1;33m.\u001b[0m\u001b[0mtk\u001b[0m\u001b[1;33m.\u001b[0m\u001b[0mcall\u001b[0m\u001b[1;33m(\u001b[0m\u001b[1;34m'update'\u001b[0m\u001b[1;33m)\u001b[0m\u001b[1;33m\u001b[0m\u001b[0m\n\u001b[0m\u001b[0;32m   1172\u001b[0m     \u001b[1;32mdef\u001b[0m \u001b[0mupdate_idletasks\u001b[0m\u001b[1;33m(\u001b[0m\u001b[0mself\u001b[0m\u001b[1;33m)\u001b[0m\u001b[1;33m:\u001b[0m\u001b[1;33m\u001b[0m\u001b[0m\n\u001b[0;32m   1173\u001b[0m         \"\"\"Enter event loop until all idle callbacks have been called. This\n",
      "\u001b[1;31mTclError\u001b[0m: can't invoke \"update\" command: application has been destroyed"
     ]
    }
   ],
   "source": [
    "from tkinter import *\n",
    "root=Tk()\n",
    "root.title(\"LIV-TOOL\")\n",
    "\"\"\"frame = Frame(root,bg=\"powder blue\")\n",
    "frame.pack()\"\"\"\n",
    "age=StringVar()\n",
    "gen=StringVar()\n",
    "tot_bil=StringVar()\n",
    "dir_bil=StringVar()\n",
    "alk_phos=StringVar()\n",
    "alam_amin=StringVar()\n",
    "asp_amin=StringVar()\n",
    "tot_pro=StringVar()\n",
    "alb=StringVar()\n",
    "alb_glo=StringVar()\n",
    "\n",
    "a=\"\"\n",
    "b=\"\"\n",
    "c=\"\"\n",
    "d=\"\"\n",
    "e=\"\"\n",
    "f=\"\"\n",
    "g=\"\"\n",
    "h=\"\"\n",
    "i=\"\"\n",
    "j=\"\"\n",
    "\n",
    "def fun():\n",
    "    global a,b,c,d,e,f,g,h,i,j,model,sc\n",
    "    a=int(age.get())\n",
    "    b=gen.get()\n",
    "    c=float(tot_bil.get())\n",
    "    d=float(dir_bil.get())\n",
    "    e=int(alk_phos.get())\n",
    "    f=int(alam_amin.get())\n",
    "    g=int(asp_amin.get())\n",
    "    h=float(tot_pro.get())\n",
    "    i=float(alb.get())\n",
    "    j=float(alb_glo.get())\n",
    "    if b=='Female':\n",
    "        b=0\n",
    "    else:\n",
    "        b=1\n",
    "    x2=np.array([[b,a,c,d,e,f,g,h,i,j]])\n",
    "    x2=sc.transform(x2)\n",
    "    x5=model.predict(x2)\n",
    "    if x5[0][0]>0.5:\n",
    "        output=\"PATIENT\"\n",
    "    else:\n",
    "        output=\"NOT PATIENT\"\n",
    "    res=Label(root,text=output,font=(\"bold,Courier\",25),fg=\"red\")\n",
    "    res.grid(row=13,column=2)\n",
    "    \n",
    "    \n",
    "   \n",
    "\n",
    "\n",
    "def fun1():\n",
    "    age.set(\"\")\n",
    "    gen.set(\"\")\n",
    "    tot_bil.set(\"\")\n",
    "    dir_bil.set(\"\")\n",
    "    alk_phos.set(\"\")\n",
    "    alam_amin.set(\"\")\n",
    "    asp_amin.set(\"\")\n",
    "    tot_pro.set(\"\")\n",
    "    alb.set(\"\")\n",
    "    alb_glo.set(\"\")\n",
    "    res=Label(root,text=\"\")\n",
    "    res.grid_forget()\n",
    "    \n",
    " \n",
    "    \n",
    "\n",
    "    \n",
    "label=Label(root,text=\"LIVER DISEASE PREDICTOR\",font=(\"bold,Helvetica\",30),fg=\"Steel blue\")\n",
    "label.grid(row=0,columnspan=5)\n",
    "\n",
    "label1=Label(root,text=\"Age\",font=(\"bold,Courier\",25),fg=\"Steel blue\")\n",
    "entry1=Entry(root,textvariable=age,bd=10,insertwidth=4,font=15)\n",
    "label2=Label(root,text=\"Gender\",font=(\"bold,Courier\",25),fg=\"Steel blue\")\n",
    "entry2=OptionMenu(root,gen,'Male','Female')\n",
    "entry2.config(font=(\"bold,Courier\",20),fg=\"Steel blue\")\n",
    "gen.set('Select')\n",
    "label3=Label(root,text=\"Total_Bilirubin\",font=(\"bold,Courier\",25),fg=\"Steel blue\")\n",
    "entry3=Entry(root,textvariable=tot_bil,bd=10,insertwidth=4,font=15)\n",
    "label4=Label(root,text=\"Direct_Bilirubin\",font=(\"bold,Courier\",25),fg=\"Steel blue\")\n",
    "entry4=Entry(root,textvariable=dir_bil,bd=10,insertwidth=4,font=15)\n",
    "label5=Label(root,text=\"Alkaline_Phosphotase\",font=(\"bold,Courier\",25),fg=\"Steel blue\")\n",
    "entry5=Entry(root,textvariable=alk_phos,bd=10,insertwidth=4,font=15)\n",
    "label6=Label(root,text=\"Alamine_Aminotransferase\",font=(\"bold,Courier\",25),fg=\"Steel blue\")\n",
    "entry6=Entry(root,textvariable=alam_amin,bd=10,insertwidth=4,font=15)\n",
    "label7=Label(root,text=\"Aspartate_Aminotransferase\",font=(\"bold,Courier\",25),fg=\"Steel blue\")\n",
    "entry7=Entry(root,textvariable=asp_amin,bd=10,insertwidth=4,font=15)\n",
    "label8=Label(root,text=\"Total_Protiens\",font=(\"bold,Courier\",25),fg=\"Steel blue\")\n",
    "entry8=Entry(root,textvariable=tot_pro,bd=10,insertwidth=4,font=15)\n",
    "label9=Label(root,text=\"Albumin\",font=(\"bold,Courier\",25),fg=\"Steel blue\")\n",
    "entry9=Entry(root,textvariable=alb,bd=10,insertwidth=4,font=15)\n",
    "label10=Label(root,text=\"Albumin_and_Globulin_Ratio\",font=(\"bold,Courier\",25),fg=\"Steel blue\")\n",
    "entry10=Entry(root,textvariable=alb_glo,bd=10,insertwidth=4,font=15)\n",
    "\n",
    "\n",
    "\n",
    "\n",
    "label1.grid(row=1,sticky=W,pady=15,padx=10)\n",
    "label2.grid(row=1,column=2,sticky=W)\n",
    "entry1.grid(row=1,column=1,padx=20,ipady=10)\n",
    "entry2.grid(row=1,column=3,padx=20,ipady=5,ipadx=30)\n",
    "\n",
    "label3.grid(row=3,sticky=W,pady=15,padx=10)\n",
    "label4.grid(row=3,column=2,sticky=W)\n",
    "entry3.grid(row=3,column=1,padx=20,ipady=10)\n",
    "entry4.grid(row=3,column=3,padx=20,ipady=10)\n",
    "\n",
    "label5.grid(row=5,sticky=W,pady=15,padx=10)\n",
    "label6.grid(row=5,column=2,sticky=W)\n",
    "entry5.grid(row=5,column=1,padx=20,ipady=10)\n",
    "entry6.grid(row=5,column=3,padx=20,ipady=10)\n",
    "\n",
    "label7.grid(row=7,sticky=W,pady=15,padx=10)\n",
    "label8.grid(row=7,column=2,sticky=W)\n",
    "entry7.grid(row=7,column=1,padx=20,ipady=10)\n",
    "entry8.grid(row=7,column=3,padx=20,ipady=10)\n",
    "\n",
    "label9.grid(row=9,sticky=W,pady=15,padx=10)\n",
    "label10.grid(row=9,column=2,sticky=W)\n",
    "entry9.grid(row=9,column=1,padx=20,ipady=10)\n",
    "entry10.grid(row=9,column=3,padx=20,ipady=10)\n",
    "\n",
    "\n",
    "b1 = Button(root,text=\"Submit\",command=fun,fg=\"white\",bg=\"blue\",font=(\"bold,Courier\",25))\n",
    "b1.grid(row=12,column=1,ipadx=20,ipady=5)\n",
    "b2 = Button(root,text=\"Reset\",command=fun1,fg=\"white\",bg=\"grey\",font=(\"bold,Courier\",25))\n",
    "b2.grid(row=12,column=2,ipadx=20,ipady=5)\n",
    "while 1:\n",
    "    root.update()\n",
    "    if(a!=\"\"):\n",
    "         break\n",
    "\n",
    "\n",
    "\n",
    "\"\"\"\n",
    "print(a)\n",
    "print(b)\n",
    "print(c)\n",
    "print(d)\n",
    "print(e)\n",
    "print(f)\n",
    "print(g)\n",
    "print(h)\n",
    "print(i)\n",
    "print(\"d\")\"\"\"\n",
    "\n",
    "root.mainloop()"
   ]
  },
  {
   "cell_type": "code",
   "execution_count": null,
   "metadata": {
    "collapsed": true
   },
   "outputs": [],
   "source": [
    "\n"
   ]
  },
  {
   "cell_type": "code",
   "execution_count": null,
   "metadata": {
    "collapsed": true
   },
   "outputs": [],
   "source": []
  },
  {
   "cell_type": "code",
   "execution_count": null,
   "metadata": {
    "collapsed": true
   },
   "outputs": [],
   "source": []
  },
  {
   "cell_type": "code",
   "execution_count": null,
   "metadata": {
    "collapsed": true
   },
   "outputs": [],
   "source": [
    "\n"
   ]
  },
  {
   "cell_type": "code",
   "execution_count": null,
   "metadata": {
    "collapsed": true
   },
   "outputs": [],
   "source": []
  },
  {
   "cell_type": "code",
   "execution_count": null,
   "metadata": {
    "collapsed": true
   },
   "outputs": [],
   "source": []
  },
  {
   "cell_type": "code",
   "execution_count": null,
   "metadata": {
    "collapsed": true
   },
   "outputs": [],
   "source": []
  }
 ],
 "metadata": {
  "kernelspec": {
   "display_name": "Python 3",
   "language": "python",
   "name": "python3"
  },
  "language_info": {
   "codemirror_mode": {
    "name": "ipython",
    "version": 3
   },
   "file_extension": ".py",
   "mimetype": "text/x-python",
   "name": "python",
   "nbconvert_exporter": "python",
   "pygments_lexer": "ipython3",
   "version": "3.6.3"
  }
 },
 "nbformat": 4,
 "nbformat_minor": 2
}
